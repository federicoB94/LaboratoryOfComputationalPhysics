{
 "cells": [
  {
   "cell_type": "markdown",
   "metadata": {},
   "source": [
    "1. The MickeyMouse problem\n",
    "\n",
    "a) Write a program that prints the numbers from 1 to 100. But for multiples of three print Mickey instead of the number and for the multiples of five print Mouse. For numbers which are multiples of both three and five print MickeyMouse\n",
    "\n",
    "b) Put the result in a list and substitute Mickey with Donald and Mouse with Duck"
   ]
  },
  {
   "cell_type": "code",
   "execution_count": 1,
   "metadata": {},
   "outputs": [
    {
     "name": "stdout",
     "output_type": "stream",
     "text": [
      "1\n",
      "2\n",
      "mickey\n",
      "4\n",
      "mouse\n",
      "mickey\n",
      "7\n",
      "8\n",
      "mickey\n",
      "mouse\n",
      "11\n",
      "mickey\n",
      "13\n",
      "14\n",
      "mickey mouse\n",
      "16\n",
      "17\n",
      "mickey\n",
      "19\n",
      "mouse\n",
      "mickey\n",
      "22\n",
      "23\n",
      "mickey\n",
      "mouse\n",
      "26\n",
      "mickey\n",
      "28\n",
      "29\n",
      "mickey mouse\n",
      "31\n",
      "32\n",
      "mickey\n",
      "34\n",
      "mouse\n",
      "mickey\n",
      "37\n",
      "38\n",
      "mickey\n",
      "mouse\n",
      "41\n",
      "mickey\n",
      "43\n",
      "44\n",
      "mickey mouse\n",
      "46\n",
      "47\n",
      "mickey\n",
      "49\n",
      "mouse\n",
      "mickey\n",
      "52\n",
      "53\n",
      "mickey\n",
      "mouse\n",
      "56\n",
      "mickey\n",
      "58\n",
      "59\n",
      "mickey mouse\n",
      "61\n",
      "62\n",
      "mickey\n",
      "64\n",
      "mouse\n",
      "mickey\n",
      "67\n",
      "68\n",
      "mickey\n",
      "mouse\n",
      "71\n",
      "mickey\n",
      "73\n",
      "74\n",
      "mickey mouse\n",
      "76\n",
      "77\n",
      "mickey\n",
      "79\n",
      "mouse\n",
      "mickey\n",
      "82\n",
      "83\n",
      "mickey\n",
      "mouse\n",
      "86\n",
      "mickey\n",
      "88\n",
      "89\n",
      "mickey mouse\n",
      "91\n",
      "92\n",
      "mickey\n",
      "94\n",
      "mouse\n",
      "mickey\n",
      "97\n",
      "98\n",
      "mickey\n",
      "mouse\n"
     ]
    }
   ],
   "source": [
    "for i in range(1,101,1):\n",
    "    if i % 15 == 0:\n",
    "        print(\"mickey mouse\")\n",
    "    elif i % 5 == 0:\n",
    "        print(\"mouse\")\n",
    "    elif i % 3 ==0:\n",
    "        print(\"mickey\")\n",
    "    else: print(i)"
   ]
  },
  {
   "cell_type": "code",
   "execution_count": 15,
   "metadata": {},
   "outputs": [
    {
     "name": "stdout",
     "output_type": "stream",
     "text": [
      "la prima list e': \n",
      " [1, 2, 'mickey', 4, 'mouse', 'mickey', 7, 8, 'mickey', 'mouse', 11, 'mickey', 13, 14, 'mickey mouse', 16, 17, 'mickey', 19, 'mouse', 'mickey', 22, 23, 'mickey', 'mouse', 26, 'mickey', 28, 29, 'mickey mouse', 31, 32, 'mickey', 34, 'mouse', 'mickey', 37, 38, 'mickey', 'mouse', 41, 'mickey', 43, 44, 'mickey mouse', 46, 47, 'mickey', 49, 'mouse', 'mickey', 52, 53, 'mickey', 'mouse', 56, 'mickey', 58, 59, 'mickey mouse', 61, 62, 'mickey', 64, 'mouse', 'mickey', 67, 68, 'mickey', 'mouse', 71, 'mickey', 73, 74, 'mickey mouse', 76, 77, 'mickey', 79, 'mouse', 'mickey', 82, 83, 'mickey', 'mouse', 86, 'mickey', 88, 89, 'mickey mouse', 91, 92, 'mickey', 94, 'mouse', 'mickey', 97, 98, 'mickey', 'mouse']\n",
      "\n",
      "\n",
      "la seconda list e': \n",
      " [1, 2, 'donald', 4, 'duck', 'donald', 7, 8, 'donald', 'duck', 11, 'donald', 13, 14, 'donald duck', 16, 17, 'donald', 19, 'duck', 'donald', 22, 23, 'donald', 'duck', 26, 'donald', 28, 29, 'donald duck', 31, 32, 'donald', 34, 'duck', 'donald', 37, 38, 'donald', 'duck', 41, 'donald', 43, 44, 'donald duck', 46, 47, 'donald', 49, 'duck', 'donald', 52, 53, 'donald', 'duck', 56, 'donald', 58, 59, 'donald duck', 61, 62, 'donald', 64, 'duck', 'donald', 67, 68, 'donald', 'duck', 71, 'donald', 73, 74, 'donald duck', 76, 77, 'donald', 79, 'duck', 'donald', 82, 83, 'donald', 'duck', 86, 'donald', 88, 89, 'donald duck', 91, 92, 'donald', 94, 'duck', 'donald', 97, 98, 'donald', 'duck']\n"
     ]
    }
   ],
   "source": [
    "a=[]\n",
    "for i in range (1,101,1):\n",
    "    if i % 15 == 0:\n",
    "        a.insert(i,\"mickey mouse\")\n",
    "    elif i % 5 == 0:\n",
    "        a.insert(i,\"mouse\")\n",
    "    elif i % 3 ==0:\n",
    "        a.insert(i,\"mickey\")\n",
    "    else:\n",
    "        a.insert(i,i)\n",
    "print(\"la prima list e':\",\"\\n\", a)\n",
    "\n",
    "for i in range(0,100,1):\n",
    "    if a[i] == \"mickey mouse\":\n",
    "        a[i]=\"donald duck\"\n",
    "    elif a[i]==\"mouse\":\n",
    "        a[i]=\"duck\"\n",
    "    elif a[i]==\"mickey\":\n",
    "        a[i]='donald'\n",
    "print (\"\\n\")\n",
    "print(\"la seconda list e':\",\"\\n\", a)"
   ]
  },
  {
   "cell_type": "markdown",
   "metadata": {},
   "source": [
    "2\\. The swap function\n",
    "\n",
    "Write a function that swap the values of two input variables x and y (whatever the type). Try to do that also without a temporary variable"
   ]
  },
  {
   "cell_type": "code",
   "execution_count": 36,
   "metadata": {},
   "outputs": [
    {
     "name": "stdout",
     "output_type": "stream",
     "text": [
      "x prima dello swap:  3\n",
      "y prima dello swap:  ciao\n",
      "let's swap:\n"
     ]
    },
    {
     "data": {
      "text/plain": [
       "('ciao', 3)"
      ]
     },
     "execution_count": 36,
     "metadata": {},
     "output_type": "execute_result"
    }
   ],
   "source": [
    "def funzioneswap(x,y):\n",
    "    print(\"x prima dello swap: \", x)\n",
    "    print(\"y prima dello swap: \", y)\n",
    "    s=x\n",
    "    x=y\n",
    "    y=s\n",
    "    print(\"let's swap:\")\n",
    "    return(x,y)\n",
    "\n",
    "funzioneswap(3,\"ciao\")\n"
   ]
  },
  {
   "cell_type": "markdown",
   "metadata": {},
   "source": [
    "3\\. Computing the distance\n",
    "\n",
    "Write a function that calculates and returns the euclidean distance between two points *u* and *v*, where *u* and *v* are both 2-tuples *(x,y)*. For example, if *u=(3,0)* and *v=(0,4)*, the function should return 5"
   ]
  },
  {
   "cell_type": "code",
   "execution_count": null,
   "metadata": {
    "collapsed": true
   },
   "outputs": [],
   "source": []
  },
  {
   "cell_type": "markdown",
   "metadata": {},
   "source": [
    "4\\. Counting letters\n",
    "\n",
    "Write a program to calculate the number of times each character occurs in a given string *s*. Ignore differneces in capitalization"
   ]
  },
  {
   "cell_type": "code",
   "execution_count": null,
   "metadata": {
    "collapsed": true
   },
   "outputs": [],
   "source": [
    "s=\"Write a program that prints the numbers from 1 to 100. \\\n",
    "But for multiples of three print Mickey instead of the number and for the multiples of five print Mouse. \\\n",
    "For numbers which are multiples of both three and five print MickeyMouse\""
   ]
  },
  {
   "cell_type": "markdown",
   "metadata": {},
   "source": [
    "5\\. Isolating the unique\n",
    "\n",
    "Write a function that determines and count the unique numbers in the list *l*"
   ]
  },
  {
   "cell_type": "code",
   "execution_count": null,
   "metadata": {
    "collapsed": true
   },
   "outputs": [],
   "source": [
    "l = [36, 45, 58, 3, 74, 96, 64, 45, 31, 10, 24, 19, 33, 86, 99, 18, 63, 70, 85,\n",
    " 85, 63, 47, 56, 42, 70, 84, 88, 55, 20, 54, 8, 56, 51, 79, 81, 57, 37, 91,\n",
    " 1, 84, 84, 36, 66, 9, 89, 50, 42, 91, 50, 95, 90, 98, 39, 16, 82, 31, 92, 41,\n",
    " 45, 30, 66, 70, 34, 85, 94, 5, 3, 36, 72, 91, 84, 34, 87, 75, 53, 51, 20, 89, 51, 20]"
   ]
  },
  {
   "cell_type": "markdown",
   "metadata": {},
   "source": [
    "6\\. Combination of functions\n",
    "\n",
    "Write two functions - one that returns the square of a number, and one that returns the cube. Now write a third function that returns the number raised to the 6th power using the two previous functions."
   ]
  },
  {
   "cell_type": "markdown",
   "metadata": {},
   "source": [
    "7\\. Cubes\n",
    "\n",
    "Create a list of the cubes of x for x in *[0, 10]* using:\n",
    "\n",
    "a) a for loop\n",
    "\n",
    "b) a list comprehension"
   ]
  },
  {
   "cell_type": "markdown",
   "metadata": {},
   "source": [
    "8\\. Nested list comprehension\n",
    "\n",
    "A Pythagorean triple is an integer solution to the Pythagorean theorem $a^2+b^2=c^2$. The first Pythagorean triple is (3,4,5). Find and put in a tuple all unique Pythagorean triples for the positive integers a, b and c less than 100."
   ]
  },
  {
   "cell_type": "markdown",
   "metadata": {},
   "source": [
    "9\\. Normalization\n",
    "\n",
    "Write a function that takes a tuple of numbers and returns it with the entries normalized to one"
   ]
  },
  {
   "cell_type": "code",
   "execution_count": null,
   "metadata": {
    "collapsed": true
   },
   "outputs": [],
   "source": []
  }
 ],
 "metadata": {
  "kernelspec": {
   "display_name": "Python 3",
   "language": "python",
   "name": "python3"
  },
  "language_info": {
   "codemirror_mode": {
    "name": "ipython",
    "version": 3
   },
   "file_extension": ".py",
   "mimetype": "text/x-python",
   "name": "python",
   "nbconvert_exporter": "python",
   "pygments_lexer": "ipython3",
   "version": "3.6.3"
  }
 },
 "nbformat": 4,
 "nbformat_minor": 2
}
